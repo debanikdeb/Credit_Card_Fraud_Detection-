{
 "cells": [
  {
   "cell_type": "markdown",
   "id": "5d59781f",
   "metadata": {},
   "source": [
    "# ML | Credit Card Fraud Detection"
   ]
  },
  {
   "cell_type": "markdown",
   "id": "08768e96",
   "metadata": {},
   "source": [
    "## Importing the Libraries"
   ]
  },
  {
   "cell_type": "code",
   "execution_count": 1,
   "id": "a060ddfc",
   "metadata": {},
   "outputs": [],
   "source": [
    "# import the necessary packages \n",
    "import numpy as np \n",
    "import pandas as pd \n",
    "import matplotlib.pyplot as plt \n",
    "import seaborn as sns \n",
    "from matplotlib import gridspec"
   ]
  },
  {
   "cell_type": "markdown",
   "id": "1458a700",
   "metadata": {},
   "source": [
    "## Import dataset"
   ]
  },
  {
   "cell_type": "code",
   "execution_count": 2,
   "id": "5dfcd558",
   "metadata": {},
   "outputs": [],
   "source": [
    "\n",
    "# Load the dataset from the csv file using pandas \n",
    "# best way is to mount the drive on colab and  \n",
    "# copy the path for the csv file \n",
    "data = pd.read_csv(\"creditcard.csv\") "
   ]
  },
  {
   "cell_type": "markdown",
   "id": "a429b9ab",
   "metadata": {},
   "source": [
    "## Exploratory Data Analysis"
   ]
  },
  {
   "cell_type": "code",
   "execution_count": 3,
   "id": "b0fa4fe1",
   "metadata": {},
   "outputs": [
    {
     "data": {
      "text/html": [
       "<div>\n",
       "<style scoped>\n",
       "    .dataframe tbody tr th:only-of-type {\n",
       "        vertical-align: middle;\n",
       "    }\n",
       "\n",
       "    .dataframe tbody tr th {\n",
       "        vertical-align: top;\n",
       "    }\n",
       "\n",
       "    .dataframe thead th {\n",
       "        text-align: right;\n",
       "    }\n",
       "</style>\n",
       "<table border=\"1\" class=\"dataframe\">\n",
       "  <thead>\n",
       "    <tr style=\"text-align: right;\">\n",
       "      <th></th>\n",
       "      <th>Time</th>\n",
       "      <th>V1</th>\n",
       "      <th>V2</th>\n",
       "      <th>V3</th>\n",
       "      <th>V4</th>\n",
       "      <th>V5</th>\n",
       "      <th>V6</th>\n",
       "      <th>V7</th>\n",
       "      <th>V8</th>\n",
       "      <th>V9</th>\n",
       "      <th>...</th>\n",
       "      <th>V21</th>\n",
       "      <th>V22</th>\n",
       "      <th>V23</th>\n",
       "      <th>V24</th>\n",
       "      <th>V25</th>\n",
       "      <th>V26</th>\n",
       "      <th>V27</th>\n",
       "      <th>V28</th>\n",
       "      <th>Amount</th>\n",
       "      <th>Class</th>\n",
       "    </tr>\n",
       "  </thead>\n",
       "  <tbody>\n",
       "    <tr>\n",
       "      <th>0</th>\n",
       "      <td>0.0</td>\n",
       "      <td>-1.359807</td>\n",
       "      <td>-0.072781</td>\n",
       "      <td>2.536347</td>\n",
       "      <td>1.378155</td>\n",
       "      <td>-0.338321</td>\n",
       "      <td>0.462388</td>\n",
       "      <td>0.239599</td>\n",
       "      <td>0.098698</td>\n",
       "      <td>0.363787</td>\n",
       "      <td>...</td>\n",
       "      <td>-0.018307</td>\n",
       "      <td>0.277838</td>\n",
       "      <td>-0.110474</td>\n",
       "      <td>0.066928</td>\n",
       "      <td>0.128539</td>\n",
       "      <td>-0.189115</td>\n",
       "      <td>0.133558</td>\n",
       "      <td>-0.021053</td>\n",
       "      <td>149.62</td>\n",
       "      <td>0</td>\n",
       "    </tr>\n",
       "    <tr>\n",
       "      <th>1</th>\n",
       "      <td>0.0</td>\n",
       "      <td>1.191857</td>\n",
       "      <td>0.266151</td>\n",
       "      <td>0.166480</td>\n",
       "      <td>0.448154</td>\n",
       "      <td>0.060018</td>\n",
       "      <td>-0.082361</td>\n",
       "      <td>-0.078803</td>\n",
       "      <td>0.085102</td>\n",
       "      <td>-0.255425</td>\n",
       "      <td>...</td>\n",
       "      <td>-0.225775</td>\n",
       "      <td>-0.638672</td>\n",
       "      <td>0.101288</td>\n",
       "      <td>-0.339846</td>\n",
       "      <td>0.167170</td>\n",
       "      <td>0.125895</td>\n",
       "      <td>-0.008983</td>\n",
       "      <td>0.014724</td>\n",
       "      <td>2.69</td>\n",
       "      <td>0</td>\n",
       "    </tr>\n",
       "    <tr>\n",
       "      <th>2</th>\n",
       "      <td>1.0</td>\n",
       "      <td>-1.358354</td>\n",
       "      <td>-1.340163</td>\n",
       "      <td>1.773209</td>\n",
       "      <td>0.379780</td>\n",
       "      <td>-0.503198</td>\n",
       "      <td>1.800499</td>\n",
       "      <td>0.791461</td>\n",
       "      <td>0.247676</td>\n",
       "      <td>-1.514654</td>\n",
       "      <td>...</td>\n",
       "      <td>0.247998</td>\n",
       "      <td>0.771679</td>\n",
       "      <td>0.909412</td>\n",
       "      <td>-0.689281</td>\n",
       "      <td>-0.327642</td>\n",
       "      <td>-0.139097</td>\n",
       "      <td>-0.055353</td>\n",
       "      <td>-0.059752</td>\n",
       "      <td>378.66</td>\n",
       "      <td>0</td>\n",
       "    </tr>\n",
       "    <tr>\n",
       "      <th>3</th>\n",
       "      <td>1.0</td>\n",
       "      <td>-0.966272</td>\n",
       "      <td>-0.185226</td>\n",
       "      <td>1.792993</td>\n",
       "      <td>-0.863291</td>\n",
       "      <td>-0.010309</td>\n",
       "      <td>1.247203</td>\n",
       "      <td>0.237609</td>\n",
       "      <td>0.377436</td>\n",
       "      <td>-1.387024</td>\n",
       "      <td>...</td>\n",
       "      <td>-0.108300</td>\n",
       "      <td>0.005274</td>\n",
       "      <td>-0.190321</td>\n",
       "      <td>-1.175575</td>\n",
       "      <td>0.647376</td>\n",
       "      <td>-0.221929</td>\n",
       "      <td>0.062723</td>\n",
       "      <td>0.061458</td>\n",
       "      <td>123.50</td>\n",
       "      <td>0</td>\n",
       "    </tr>\n",
       "    <tr>\n",
       "      <th>4</th>\n",
       "      <td>2.0</td>\n",
       "      <td>-1.158233</td>\n",
       "      <td>0.877737</td>\n",
       "      <td>1.548718</td>\n",
       "      <td>0.403034</td>\n",
       "      <td>-0.407193</td>\n",
       "      <td>0.095921</td>\n",
       "      <td>0.592941</td>\n",
       "      <td>-0.270533</td>\n",
       "      <td>0.817739</td>\n",
       "      <td>...</td>\n",
       "      <td>-0.009431</td>\n",
       "      <td>0.798278</td>\n",
       "      <td>-0.137458</td>\n",
       "      <td>0.141267</td>\n",
       "      <td>-0.206010</td>\n",
       "      <td>0.502292</td>\n",
       "      <td>0.219422</td>\n",
       "      <td>0.215153</td>\n",
       "      <td>69.99</td>\n",
       "      <td>0</td>\n",
       "    </tr>\n",
       "  </tbody>\n",
       "</table>\n",
       "<p>5 rows × 31 columns</p>\n",
       "</div>"
      ],
      "text/plain": [
       "   Time        V1        V2        V3        V4        V5        V6        V7  \\\n",
       "0   0.0 -1.359807 -0.072781  2.536347  1.378155 -0.338321  0.462388  0.239599   \n",
       "1   0.0  1.191857  0.266151  0.166480  0.448154  0.060018 -0.082361 -0.078803   \n",
       "2   1.0 -1.358354 -1.340163  1.773209  0.379780 -0.503198  1.800499  0.791461   \n",
       "3   1.0 -0.966272 -0.185226  1.792993 -0.863291 -0.010309  1.247203  0.237609   \n",
       "4   2.0 -1.158233  0.877737  1.548718  0.403034 -0.407193  0.095921  0.592941   \n",
       "\n",
       "         V8        V9  ...       V21       V22       V23       V24       V25  \\\n",
       "0  0.098698  0.363787  ... -0.018307  0.277838 -0.110474  0.066928  0.128539   \n",
       "1  0.085102 -0.255425  ... -0.225775 -0.638672  0.101288 -0.339846  0.167170   \n",
       "2  0.247676 -1.514654  ...  0.247998  0.771679  0.909412 -0.689281 -0.327642   \n",
       "3  0.377436 -1.387024  ... -0.108300  0.005274 -0.190321 -1.175575  0.647376   \n",
       "4 -0.270533  0.817739  ... -0.009431  0.798278 -0.137458  0.141267 -0.206010   \n",
       "\n",
       "        V26       V27       V28  Amount  Class  \n",
       "0 -0.189115  0.133558 -0.021053  149.62      0  \n",
       "1  0.125895 -0.008983  0.014724    2.69      0  \n",
       "2 -0.139097 -0.055353 -0.059752  378.66      0  \n",
       "3 -0.221929  0.062723  0.061458  123.50      0  \n",
       "4  0.502292  0.219422  0.215153   69.99      0  \n",
       "\n",
       "[5 rows x 31 columns]"
      ]
     },
     "execution_count": 3,
     "metadata": {},
     "output_type": "execute_result"
    }
   ],
   "source": [
    "# Grab a peek at the data \n",
    "data.head() "
   ]
  },
  {
   "cell_type": "code",
   "execution_count": 4,
   "id": "4d9eff16",
   "metadata": {},
   "outputs": [
    {
     "name": "stdout",
     "output_type": "stream",
     "text": [
      "(284807, 31)\n",
      "                Time            V1            V2            V3            V4  \\\n",
      "count  284807.000000  2.848070e+05  2.848070e+05  2.848070e+05  2.848070e+05   \n",
      "mean    94813.859575  3.918649e-15  5.682686e-16 -8.761736e-15  2.811118e-15   \n",
      "std     47488.145955  1.958696e+00  1.651309e+00  1.516255e+00  1.415869e+00   \n",
      "min         0.000000 -5.640751e+01 -7.271573e+01 -4.832559e+01 -5.683171e+00   \n",
      "25%     54201.500000 -9.203734e-01 -5.985499e-01 -8.903648e-01 -8.486401e-01   \n",
      "50%     84692.000000  1.810880e-02  6.548556e-02  1.798463e-01 -1.984653e-02   \n",
      "75%    139320.500000  1.315642e+00  8.037239e-01  1.027196e+00  7.433413e-01   \n",
      "max    172792.000000  2.454930e+00  2.205773e+01  9.382558e+00  1.687534e+01   \n",
      "\n",
      "                 V5            V6            V7            V8            V9  \\\n",
      "count  2.848070e+05  2.848070e+05  2.848070e+05  2.848070e+05  2.848070e+05   \n",
      "mean  -1.552103e-15  2.040130e-15 -1.698953e-15 -1.893285e-16 -3.147640e-15   \n",
      "std    1.380247e+00  1.332271e+00  1.237094e+00  1.194353e+00  1.098632e+00   \n",
      "min   -1.137433e+02 -2.616051e+01 -4.355724e+01 -7.321672e+01 -1.343407e+01   \n",
      "25%   -6.915971e-01 -7.682956e-01 -5.540759e-01 -2.086297e-01 -6.430976e-01   \n",
      "50%   -5.433583e-02 -2.741871e-01  4.010308e-02  2.235804e-02 -5.142873e-02   \n",
      "75%    6.119264e-01  3.985649e-01  5.704361e-01  3.273459e-01  5.971390e-01   \n",
      "max    3.480167e+01  7.330163e+01  1.205895e+02  2.000721e+01  1.559499e+01   \n",
      "\n",
      "       ...           V21           V22           V23           V24  \\\n",
      "count  ...  2.848070e+05  2.848070e+05  2.848070e+05  2.848070e+05   \n",
      "mean   ...  1.473120e-16  8.042109e-16  5.282512e-16  4.456271e-15   \n",
      "std    ...  7.345240e-01  7.257016e-01  6.244603e-01  6.056471e-01   \n",
      "min    ... -3.483038e+01 -1.093314e+01 -4.480774e+01 -2.836627e+00   \n",
      "25%    ... -2.283949e-01 -5.423504e-01 -1.618463e-01 -3.545861e-01   \n",
      "50%    ... -2.945017e-02  6.781943e-03 -1.119293e-02  4.097606e-02   \n",
      "75%    ...  1.863772e-01  5.285536e-01  1.476421e-01  4.395266e-01   \n",
      "max    ...  2.720284e+01  1.050309e+01  2.252841e+01  4.584549e+00   \n",
      "\n",
      "                V25           V26           V27           V28         Amount  \\\n",
      "count  2.848070e+05  2.848070e+05  2.848070e+05  2.848070e+05  284807.000000   \n",
      "mean   1.426896e-15  1.701640e-15 -3.662252e-16 -1.217809e-16      88.349619   \n",
      "std    5.212781e-01  4.822270e-01  4.036325e-01  3.300833e-01     250.120109   \n",
      "min   -1.029540e+01 -2.604551e+00 -2.256568e+01 -1.543008e+01       0.000000   \n",
      "25%   -3.171451e-01 -3.269839e-01 -7.083953e-02 -5.295979e-02       5.600000   \n",
      "50%    1.659350e-02 -5.213911e-02  1.342146e-03  1.124383e-02      22.000000   \n",
      "75%    3.507156e-01  2.409522e-01  9.104512e-02  7.827995e-02      77.165000   \n",
      "max    7.519589e+00  3.517346e+00  3.161220e+01  3.384781e+01   25691.160000   \n",
      "\n",
      "               Class  \n",
      "count  284807.000000  \n",
      "mean        0.001727  \n",
      "std         0.041527  \n",
      "min         0.000000  \n",
      "25%         0.000000  \n",
      "50%         0.000000  \n",
      "75%         0.000000  \n",
      "max         1.000000  \n",
      "\n",
      "[8 rows x 31 columns]\n"
     ]
    }
   ],
   "source": [
    "# Print the shape of the data \n",
    "# data = data.sample(frac = 0.1, random_state = 48) \n",
    "print(data.shape) \n",
    "print(data.describe())"
   ]
  },
  {
   "cell_type": "code",
   "execution_count": 5,
   "id": "8dff8596",
   "metadata": {},
   "outputs": [
    {
     "name": "stdout",
     "output_type": "stream",
     "text": [
      "0.0017304750013189597\n",
      "Fraud Cases: 492\n",
      "Valid Transactions: 284315\n"
     ]
    }
   ],
   "source": [
    "# Determine number of fraud cases in dataset \n",
    "fraud = data[data['Class'] == 1] \n",
    "valid = data[data['Class'] == 0] \n",
    "outlierFraction = len(fraud)/float(len(valid)) \n",
    "print(outlierFraction) \n",
    "print('Fraud Cases: {}'.format(len(data[data['Class'] == 1]))) \n",
    "print('Valid Transactions: {}'.format(len(data[data['Class'] == 0])))"
   ]
  },
  {
   "cell_type": "code",
   "execution_count": 6,
   "id": "a8776be4",
   "metadata": {},
   "outputs": [
    {
     "name": "stdout",
     "output_type": "stream",
     "text": [
      "Amount details of the fraudulent transaction\n"
     ]
    },
    {
     "data": {
      "text/plain": [
       "count     492.000000\n",
       "mean      122.211321\n",
       "std       256.683288\n",
       "min         0.000000\n",
       "25%         1.000000\n",
       "50%         9.250000\n",
       "75%       105.890000\n",
       "max      2125.870000\n",
       "Name: Amount, dtype: float64"
      ]
     },
     "execution_count": 6,
     "metadata": {},
     "output_type": "execute_result"
    }
   ],
   "source": [
    "print(\"Amount details of the fraudulent transaction\") \n",
    "fraud.Amount.describe()"
   ]
  },
  {
   "cell_type": "code",
   "execution_count": 7,
   "id": "b20de2c8",
   "metadata": {},
   "outputs": [
    {
     "name": "stdout",
     "output_type": "stream",
     "text": [
      "details of valid transaction\n"
     ]
    },
    {
     "data": {
      "text/plain": [
       "count    284315.000000\n",
       "mean         88.291022\n",
       "std         250.105092\n",
       "min           0.000000\n",
       "25%           5.650000\n",
       "50%          22.000000\n",
       "75%          77.050000\n",
       "max       25691.160000\n",
       "Name: Amount, dtype: float64"
      ]
     },
     "execution_count": 7,
     "metadata": {},
     "output_type": "execute_result"
    }
   ],
   "source": [
    "print(\"details of valid transaction\") \n",
    "valid.Amount.describe() "
   ]
  },
  {
   "cell_type": "code",
   "execution_count": 8,
   "id": "eb51d35f",
   "metadata": {},
   "outputs": [
    {
     "data": {
      "image/png": "[encoded data removed]",
      "text/plain": [
       "<Figure size 1200x900 with 2 Axes>"
      ]
     },
     "metadata": {},
     "output_type": "display_data"
    }
   ],
   "source": [
    "# Correlation matrix \n",
    "corrmat = data.corr() \n",
    "fig = plt.figure(figsize = (12, 9)) \n",
    "sns.heatmap(corrmat, vmax = .8, square = True) \n",
    "plt.show() "
   ]
  },
  {
   "cell_type": "markdown",
   "id": "6b1b9af4",
   "metadata": {},
   "source": [
    "## Declare feature vector and target variable "
   ]
  },
  {
   "cell_type": "code",
   "execution_count": 9,
   "id": "00ec9bea",
   "metadata": {},
   "outputs": [
    {
     "name": "stdout",
     "output_type": "stream",
     "text": [
      "(284807, 30)\n",
      "(284807,)\n"
     ]
    }
   ],
   "source": [
    "# dividing the X and the Y from the dataset \n",
    "X = data.drop(['Class'], axis = 1) \n",
    "Y = data[\"Class\"] \n",
    "print(X.shape) \n",
    "print(Y.shape) \n",
    "# getting just the values for the sake of processing  \n",
    "# (its a numpy array with no columns) \n",
    "xData = X.values \n",
    "yData = Y.values "
   ]
  },
  {
   "cell_type": "markdown",
   "id": "63ddb06e",
   "metadata": {},
   "source": [
    "## Split data into separate training and test set "
   ]
  },
  {
   "cell_type": "code",
   "execution_count": 10,
   "id": "9fe236a0",
   "metadata": {},
   "outputs": [],
   "source": [
    "# Using Scikit-learn to split data into training and testing sets \n",
    "from sklearn.model_selection import train_test_split \n",
    "# Split the data into training and testing sets \n",
    "xTrain, xTest, yTrain, yTest = train_test_split( \n",
    "        xData, yData, test_size = 0.2, random_state = 42)"
   ]
  },
  {
   "cell_type": "markdown",
   "id": "e6d263c1",
   "metadata": {},
   "source": [
    "# Using Random Forest CLassifier"
   ]
  },
  {
   "cell_type": "code",
   "execution_count": 11,
   "id": "8f5469e3",
   "metadata": {},
   "outputs": [],
   "source": [
    "# Building the Random Forest Classifier (RANDOM FOREST) \n",
    "from sklearn.ensemble import RandomForestClassifier \n",
    "# random forest model creation \n",
    "rfc = RandomForestClassifier() \n",
    "rfc.fit(xTrain, yTrain) \n",
    "# predictions \n",
    "yPred = rfc.predict(xTest)"
   ]
  },
  {
   "cell_type": "code",
   "execution_count": 35,
   "id": "800e8780",
   "metadata": {},
   "outputs": [
    {
     "data": {
      "text/plain": [
       "0.9995786664794073"
      ]
     },
     "execution_count": 35,
     "metadata": {},
     "output_type": "execute_result"
    }
   ],
   "source": [
    "rfc.score(xTest , yTest)"
   ]
  },
  {
   "cell_type": "code",
   "execution_count": 36,
   "id": "877f1541",
   "metadata": {},
   "outputs": [
    {
     "name": "stdout",
     "output_type": "stream",
     "text": [
      "Misclassified samples in Random Forest: 24\n"
     ]
    }
   ],
   "source": [
    "count_misclassified = (yTest != yPred).sum()\n",
    "print('Misclassified samples in Random Forest: {}'.format(count_misclassified))"
   ]
  },
  {
   "cell_type": "code",
   "execution_count": 38,
   "id": "dde1777d",
   "metadata": {},
   "outputs": [
    {
     "data": {
      "image/png": "[encoded data removed]",
      "text/plain": [
       "<Figure size 640x480 with 1 Axes>"
      ]
     },
     "metadata": {},
     "output_type": "display_data"
    }
   ],
   "source": [
    "feature_imp = pd.Series(rfc.feature_importances_,index=X.columns).sort_values(ascending=False)\n",
    "feature_imp\n",
    "# Creating a bar plot\n",
    "sns.barplot(x=feature_imp, y=feature_imp.index)\n",
    "# Add labels to your graph\n",
    "plt.xlabel('Feature Importance Score')\n",
    "plt.ylabel('Features')\n",
    "plt.title(\"Visualizing Important Features\")\n",
    "plt.show()"
   ]
  },
  {
   "cell_type": "markdown",
   "id": "18604e2d",
   "metadata": {},
   "source": [
    "## Evaluation Metrics"
   ]
  },
  {
   "cell_type": "code",
   "execution_count": 13,
   "id": "26edd5c7",
   "metadata": {},
   "outputs": [
    {
     "name": "stdout",
     "output_type": "stream",
     "text": [
      "The model used is Random Forest classifier\n",
      "The accuracy is 0.9995786664794073\n",
      "The precision is 0.9743589743589743\n",
      "The recall is 0.7755102040816326\n",
      "The F1-Score is 0.8636363636363635\n",
      "The Matthews correlation coefficient is0.8690748763736589\n"
     ]
    }
   ],
   "source": [
    "# Evaluating the classifier \n",
    "# printing every score of the classifier \n",
    "# scoring in anything \n",
    "from sklearn.metrics import classification_report, accuracy_score  \n",
    "from sklearn.metrics import precision_score, recall_score \n",
    "from sklearn.metrics import f1_score, matthews_corrcoef \n",
    "from sklearn.metrics import confusion_matrix \n",
    "  \n",
    "n_outliers = len(fraud) \n",
    "n_errors = (yPred != yTest).sum() \n",
    "print(\"The model used is Random Forest classifier\") \n",
    "  \n",
    "acc = accuracy_score(yTest, yPred) \n",
    "print(\"The accuracy is {}\".format(acc)) \n",
    "  \n",
    "prec = precision_score(yTest, yPred) \n",
    "print(\"The precision is {}\".format(prec)) \n",
    "  \n",
    "rec = recall_score(yTest, yPred) \n",
    "print(\"The recall is {}\".format(rec)) \n",
    "  \n",
    "f1 = f1_score(yTest, yPred) \n",
    "print(\"The F1-Score is {}\".format(f1)) \n",
    "  \n",
    "MCC = matthews_corrcoef(yTest, yPred) \n",
    "print(\"The Matthews correlation coefficient is{}\".format(MCC))"
   ]
  },
  {
   "cell_type": "markdown",
   "id": "05c03703",
   "metadata": {},
   "source": [
    "## Confusion Metrics"
   ]
  },
  {
   "cell_type": "code",
   "execution_count": 14,
   "id": "b9f75a34",
   "metadata": {},
   "outputs": [
    {
     "data": {
      "image/png": "[encoded data removed]",
      "text/plain": [
       "<Figure size 1500x1200 with 2 Axes>"
      ]
     },
     "metadata": {},
     "output_type": "display_data"
    }
   ],
   "source": [
    "# printing the confusion matrix \n",
    "LABELS = ['Normal', 'Fraud'] \n",
    "conf_matrix = confusion_matrix(yTest, yPred) \n",
    "plt.figure(figsize =(15, 12)) \n",
    "sns.heatmap(conf_matrix, xticklabels = LABELS,  \n",
    "            yticklabels = LABELS, annot = True, fmt =\"d\"); \n",
    "plt.title(\"Confusion matrix\") \n",
    "plt.ylabel('True class') \n",
    "plt.xlabel('Predicted class') \n",
    "plt.show() "
   ]
  },
  {
   "cell_type": "code",
   "execution_count": 15,
   "id": "1a3c9c16",
   "metadata": {},
   "outputs": [
    {
     "name": "stdout",
     "output_type": "stream",
     "text": [
      "Percentage of fraud cases from the total: 0.13%\n"
     ]
    }
   ],
   "source": [
    "# Extract the number of fraud cases from the confusion matrix\n",
    "fraud_cases = conf_matrix[1, 1]\n",
    "\n",
    "# Calculate the total number of cases\n",
    "total_cases = conf_matrix.sum()\n",
    "\n",
    "# Calculate the percentage of fraud cases from the total\n",
    "percentage_fraud_cases = (fraud_cases / total_cases) * 100\n",
    "\n",
    "# Print the percentage of fraud cases\n",
    "print(\"Percentage of fraud cases from the total: {:.2f}%\".format(percentage_fraud_cases))"
   ]
  },
  {
   "cell_type": "code",
   "execution_count": 16,
   "id": "4b708023",
   "metadata": {},
   "outputs": [
    {
     "name": "stdout",
     "output_type": "stream",
     "text": [
      "True Positive: 76\n",
      "True Negative: 56862\n",
      "False Positive: 2\n",
      "False Positive: 22\n"
     ]
    }
   ],
   "source": [
    "# Extract values from confusion matrix\n",
    "TN = conf_matrix[0, 0]  # True Negatives\n",
    "FP = conf_matrix[0, 1]  # False Positives\n",
    "FN = conf_matrix[1, 0]  # False Negatives\n",
    "TP = conf_matrix[1, 1]  # True Positives\n",
    "\n",
    "print(\"True Positive:\", TP)\n",
    "print(\"True Negative:\", TN)\n",
    "print(\"False Positive:\", FP)\n",
    "print(\"False Positive:\", FN)"
   ]
  },
  {
   "cell_type": "code",
   "execution_count": 17,
   "id": "c14c64a5",
   "metadata": {},
   "outputs": [
    {
     "name": "stdout",
     "output_type": "stream",
     "text": [
      "Specificity: 0.9999648283624085\n"
     ]
    }
   ],
   "source": [
    "# Calculate specificity\n",
    "specificity = TN / (TN + FP)\n",
    "\n",
    "# Print specificity\n",
    "print(\"Specificity:\", specificity)"
   ]
  },
  {
   "cell_type": "code",
   "execution_count": 18,
   "id": "d5bf272d",
   "metadata": {},
   "outputs": [
    {
     "name": "stdout",
     "output_type": "stream",
     "text": [
      "False Positive Rate: 3.517163759144626e-05\n"
     ]
    }
   ],
   "source": [
    "# Calculate false positive rate (FPR)\n",
    "false_positive_rate = FP / (FP + TN)\n",
    "\n",
    "# Print false positive rate\n",
    "print(\"False Positive Rate:\", false_positive_rate)"
   ]
  },
  {
   "cell_type": "code",
   "execution_count": 19,
   "id": "89f499c8",
   "metadata": {},
   "outputs": [
    {
     "name": "stdout",
     "output_type": "stream",
     "text": [
      "False Negative Rate: 0.22448979591836735\n"
     ]
    }
   ],
   "source": [
    "# Calculate false negative rate (FNR)\n",
    "false_negative_rate = FN / (FN + TP)\n",
    "\n",
    "# Print false negative rate\n",
    "print(\"False Negative Rate:\", false_negative_rate)"
   ]
  },
  {
   "cell_type": "code",
   "execution_count": 20,
   "id": "fe5e54c6",
   "metadata": {},
   "outputs": [
    {
     "name": "stdout",
     "output_type": "stream",
     "text": [
      "AUC-ROC: 0.8877375162220206\n"
     ]
    }
   ],
   "source": [
    "from sklearn.metrics import roc_auc_score\n",
    "\n",
    "# Calculate AUC-ROC\n",
    "auc_roc = roc_auc_score(yTest, yPred)\n",
    "\n",
    "# Print AUC-ROC\n",
    "print(\"AUC-ROC:\", auc_roc)\n"
   ]
  },
  {
   "cell_type": "markdown",
   "id": "db107c91",
   "metadata": {},
   "source": [
    "* The Evaluation Metrics are showcasing the classifier is working well.\n",
    "* Fraud number is very less compared to total number.\n",
    "* Moreover,the fraud is highly detectable in this model."
   ]
  },
  {
   "cell_type": "markdown",
   "id": "599fc300",
   "metadata": {},
   "source": [
    "# Now, using Naive Bayes Classifier"
   ]
  },
  {
   "cell_type": "code",
   "execution_count": 21,
   "id": "e31c5d9c",
   "metadata": {},
   "outputs": [],
   "source": [
    "# train a Gaussian Naive Bayes classifier on the training set\n",
    "from sklearn.naive_bayes import GaussianNB\n",
    "\n",
    "\n",
    "# instantiate the model\n",
    "gnb = GaussianNB()\n",
    "\n",
    "\n",
    "# fit the model\n",
    "gnb.fit(xTrain, yTrain)\n",
    "\n",
    "yPred2 = gnb.predict(xTest)"
   ]
  },
  {
   "cell_type": "markdown",
   "id": "bd455f85",
   "metadata": {},
   "source": [
    "### Checking accuracy score"
   ]
  },
  {
   "cell_type": "code",
   "execution_count": 22,
   "id": "a7ad3ecb",
   "metadata": {},
   "outputs": [
    {
     "name": "stdout",
     "output_type": "stream",
     "text": [
      "Model accuracy score: 0.9930\n"
     ]
    }
   ],
   "source": [
    "from sklearn.metrics import accuracy_score\n",
    "\n",
    "print('Model accuracy score: {0:0.4f}'. format(accuracy_score(yTest, yPred2)))"
   ]
  },
  {
   "cell_type": "markdown",
   "id": "b00f73fe",
   "metadata": {},
   "source": [
    "### Compare the train-set and test-set accuracy"
   ]
  },
  {
   "cell_type": "markdown",
   "id": "a348bdf9",
   "metadata": {},
   "source": [
    " comparing the train-set and test-set accuracy to check for overfitting"
   ]
  },
  {
   "cell_type": "code",
   "execution_count": 23,
   "id": "66329cdb",
   "metadata": {},
   "outputs": [
    {
     "data": {
      "text/plain": [
       "array([0, 0, 0, ..., 0, 0, 0], dtype=int64)"
      ]
     },
     "execution_count": 23,
     "metadata": {},
     "output_type": "execute_result"
    }
   ],
   "source": [
    "yPred2Train = gnb.predict(xTrain)\n",
    "\n",
    "yPred2Train"
   ]
  },
  {
   "cell_type": "code",
   "execution_count": 24,
   "id": "99a0f1d4",
   "metadata": {},
   "outputs": [
    {
     "name": "stdout",
     "output_type": "stream",
     "text": [
      "Training-set accuracy score: 0.9935\n"
     ]
    }
   ],
   "source": [
    "print('Training-set accuracy score: {0:0.4f}'. format(accuracy_score(yTrain, yPred2Train)))"
   ]
  },
  {
   "cell_type": "markdown",
   "id": "94fc1271",
   "metadata": {},
   "source": [
    "### Checking for overfitting and underfitting"
   ]
  },
  {
   "cell_type": "code",
   "execution_count": 25,
   "id": "e585f0bb",
   "metadata": {},
   "outputs": [
    {
     "name": "stdout",
     "output_type": "stream",
     "text": [
      "Training set score: 0.9935\n",
      "Test set score: 0.9930\n"
     ]
    }
   ],
   "source": [
    "# print the scores on training and test set\n",
    "\n",
    "print('Training set score: {:.4f}'.format(gnb.score(xTrain, yTrain)))\n",
    "\n",
    "print('Test set score: {:.4f}'.format(gnb.score(xTest, yTest)))"
   ]
  },
  {
   "cell_type": "markdown",
   "id": "e71e6719",
   "metadata": {},
   "source": [
    "The training-set accuracy score is 0.9935 while the test-set accuracy to be 0.9930. These two values are quite comparable. So, there is no sign of overfitting."
   ]
  },
  {
   "cell_type": "code",
   "execution_count": 26,
   "id": "d838cbe6",
   "metadata": {},
   "outputs": [
    {
     "data": {
      "image/png": "[encoded data removed]",
      "text/plain": [
       "<Figure size 1500x1200 with 2 Axes>"
      ]
     },
     "metadata": {},
     "output_type": "display_data"
    }
   ],
   "source": [
    "# printing the confusion matrix \n",
    "LABELS = ['Normal', 'Fraud'] \n",
    "conf_matrix2 = confusion_matrix(yTest, yPred2) \n",
    "plt.figure(figsize =(15, 12)) \n",
    "sns.heatmap(conf_matrix2, xticklabels = LABELS,  \n",
    "            yticklabels = LABELS, annot = True, fmt =\"d\"); \n",
    "plt.title(\"Confusion matrix\") \n",
    "plt.ylabel('True class') \n",
    "plt.xlabel('Predicted class') \n",
    "plt.show() "
   ]
  },
  {
   "cell_type": "code",
   "execution_count": 27,
   "id": "318a9a06",
   "metadata": {},
   "outputs": [
    {
     "name": "stdout",
     "output_type": "stream",
     "text": [
      "True Positive: 62\n",
      "True Negative: 56502\n",
      "False Positive: 362\n",
      "False Positive: 36\n"
     ]
    }
   ],
   "source": [
    "# Extract values from confusion matrix\n",
    "TN2 = conf_matrix2[0, 0]  # True Negatives\n",
    "FP2 = conf_matrix2[0, 1]  # False Positives\n",
    "FN2 = conf_matrix2[1, 0]  # False Negatives\n",
    "TP2 = conf_matrix2[1, 1]  # True Positives\n",
    "\n",
    "print(\"True Positive:\", TP2)\n",
    "print(\"True Negative:\", TN2)\n",
    "print(\"False Positive:\", FP2)\n",
    "print(\"False Positive:\", FN2)"
   ]
  },
  {
   "cell_type": "markdown",
   "id": "23ff8bf8",
   "metadata": {},
   "source": [
    "## Evaluation Metrics"
   ]
  },
  {
   "cell_type": "code",
   "execution_count": 28,
   "id": "b1a7be9b",
   "metadata": {},
   "outputs": [
    {
     "name": "stdout",
     "output_type": "stream",
     "text": [
      "Percentage of fraud cases from the total: 0.11%\n"
     ]
    }
   ],
   "source": [
    "# Extract the number of fraud cases from the confusion matrix\n",
    "fraud_cases2 = conf_matrix2[1, 1]\n",
    "\n",
    "# Calculate the total number of cases\n",
    "total_cases2 = conf_matrix2.sum()\n",
    "\n",
    "# Calculate the percentage of fraud cases from the total\n",
    "percentage_fraud_cases2 = (fraud_cases2 / total_cases2) * 100\n",
    "\n",
    "# Print the percentage of fraud cases\n",
    "print(\"Percentage of fraud cases from the total: {:.2f}%\".format(percentage_fraud_cases2))"
   ]
  },
  {
   "cell_type": "code",
   "execution_count": 29,
   "id": "010cff2c",
   "metadata": {},
   "outputs": [
    {
     "name": "stdout",
     "output_type": "stream",
     "text": [
      "Specificity: 0.9936339335959482\n"
     ]
    }
   ],
   "source": [
    "# Calculate specificity\n",
    "specificity2 = TN2 / (TN2 + FP2)\n",
    "\n",
    "# Print specificity\n",
    "print(\"Specificity:\", specificity2)"
   ]
  },
  {
   "cell_type": "code",
   "execution_count": 30,
   "id": "d075c065",
   "metadata": {},
   "outputs": [
    {
     "name": "stdout",
     "output_type": "stream",
     "text": [
      "False Positive Rate: 0.006366066404051773\n"
     ]
    }
   ],
   "source": [
    "# Calculate false positive rate (FPR)\n",
    "false_positive_rate2 = FP2 / (FP2 + TN2)\n",
    "\n",
    "# Print false positive rate\n",
    "print(\"False Positive Rate:\", false_positive_rate2)"
   ]
  },
  {
   "cell_type": "code",
   "execution_count": 31,
   "id": "2d313f26",
   "metadata": {},
   "outputs": [
    {
     "name": "stdout",
     "output_type": "stream",
     "text": [
      "False Negative Rate: 0.3673469387755102\n"
     ]
    }
   ],
   "source": [
    "# Calculate false negative rate (FNR)\n",
    "false_negative_rate2 = FN2 / (FN2 + TP2)\n",
    "\n",
    "# Print false negative rate\n",
    "print(\"False Negative Rate:\", false_negative_rate2)"
   ]
  },
  {
   "cell_type": "code",
   "execution_count": 32,
   "id": "bb06f3d9",
   "metadata": {},
   "outputs": [
    {
     "name": "stdout",
     "output_type": "stream",
     "text": [
      "AUC-ROC: 0.8131434974102191\n"
     ]
    }
   ],
   "source": [
    "from sklearn.metrics import roc_auc_score\n",
    "\n",
    "# Calculate AUC-ROC\n",
    "auc_roc2 = roc_auc_score(yTest, yPred2)\n",
    "\n",
    "# Print AUC-ROC\n",
    "print(\"AUC-ROC:\", auc_roc2)\n"
   ]
  },
  {
   "cell_type": "code",
   "execution_count": 33,
   "id": "6c717723",
   "metadata": {},
   "outputs": [
    {
     "name": "stdout",
     "output_type": "stream",
     "text": [
      "The model used is Naive Bayes classifier\n",
      "The accuracy is 0.9930128857835048\n",
      "The precision is 0.14622641509433962\n",
      "The recall is 0.6326530612244898\n",
      "The F1-Score is 0.8636363636363635\n",
      "The Matthews correlation coefficient is0.3019617859258202\n"
     ]
    }
   ],
   "source": [
    "n_outliers = len(fraud) \n",
    "n_errors2 = (yPred2 != yTest).sum() \n",
    "print(\"The model used is Naive Bayes classifier\") \n",
    "  \n",
    "acc2 = accuracy_score(yTest, yPred2) \n",
    "print(\"The accuracy is {}\".format(acc2)) \n",
    "  \n",
    "prec2 = precision_score(yTest, yPred2) \n",
    "print(\"The precision is {}\".format(prec2)) \n",
    "  \n",
    "rec2 = recall_score(yTest, yPred2) \n",
    "print(\"The recall is {}\".format(rec2)) \n",
    "  \n",
    "f1_2 = f1_score(yTest, yPred) \n",
    "print(\"The F1-Score is {}\".format(f1_2)) \n",
    "  \n",
    "MCC2 = matthews_corrcoef(yTest, yPred2) \n",
    "print(\"The Matthews correlation coefficient is{}\".format(MCC2))"
   ]
  },
  {
   "cell_type": "markdown",
   "id": "bc5bd5f3",
   "metadata": {},
   "source": [
    "# Conclusion"
   ]
  },
  {
   "cell_type": "markdown",
   "id": "127dca11",
   "metadata": {},
   "source": [
    "* Although, the accuracy is the same for both the models, the precision is far less in Naive Bayes Classifier.\n",
    "* Percentage of fraud cases is slightly less in Naive Bayes Classifier.\n",
    "* AUC-ROC is silghtly better in Random Forest Classifier, as well as Recall & Matthews correlation coefficient. \n",
    "* F1 score & Specificity is almost the same in both of them.\n",
    "* False Positive Rate is lower in Naive Bayes Classifier, but False Negative Rate is lower in Random Forest Classifier. \n",
    "* Evaluating all the metrics, I've decieded that **Random Forest Classifier** is better for this **Credit Card Fraud Detection**."
   ]
  },
  {
   "cell_type": "code",
   "execution_count": null,
   "id": "c846e64e",
   "metadata": {},
   "outputs": [],
   "source": []
  },
  {
   "cell_type": "code",
   "execution_count": null,
   "id": "ee3a0d24",
   "metadata": {},
   "outputs": [],
   "source": []
  }
 ],
 "metadata": {
  "kernelspec": {
   "display_name": "Python 3 (ipykernel)",
   "language": "python",
   "name": "python3"
  },
  "language_info": {
   "codemirror_mode": {
    "name": "ipython",
    "version": 3
   },
   "file_extension": ".py",
   "mimetype": "text/x-python",
   "name": "python",
   "nbconvert_exporter": "python",
   "pygments_lexer": "ipython3",
   "version": "3.9.13"
  }
 },
 "nbformat": 4,
 "nbformat_minor": 5
}
